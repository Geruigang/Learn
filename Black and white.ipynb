{
 "cells": [
  {
   "cell_type": "code",
   "execution_count": 90,
   "metadata": {},
   "outputs": [
    {
     "name": "stdout",
     "output_type": "stream",
     "text": [
      "(284, 287, 3)\n"
     ]
    },
    {
     "data": {
      "image/png": "[encoded data removed]",
      "text/plain": [
       "<matplotlib.figure.Figure at 0x21152b2fcc0>"
      ]
     },
     "metadata": {},
     "output_type": "display_data"
    },
    {
     "name": "stdout",
     "output_type": "stream",
     "text": [
      "(284, 287)\n"
     ]
    }
   ],
   "source": [
    "import matplotlib.pyplot as plt\n",
    "import numpy as np\n",
    "import PIL\n",
    "from PIL import Image\n",
    "import cv2\n",
    "\n",
    "img = cv2.cvtColor(cv2.imread(r'C:\\Users\\hosilab\\Desktop\\reward.PNG'),cv2.COLOR_BGR2RGB)\n",
    "#img.resize(212,152,3) #test\n",
    "#img = np.array(PIL.Image.open(r'C:\\Users\\hosilab\\Desktop\\reward.PNG'))\n",
    "resize_shape_x=img.shape[0]#图片h\n",
    "assert resize_shape_x!=3\n",
    "resize_shape_y=img.shape[1]#图片w\n",
    "assert resize_shape_y!=3\n",
    "\n",
    "mask_array = np.array([[1 if (resize_shape_y-1/4*(resize_shape_y) <= j < resize_shape_y) and (resize_shape_x-1/4*(resize_shape_x) <= i <= resize_shape_x) else 0 for j in range(resize_shape_y)] for i in range( resize_shape_x)])\n",
    "deprocess  = lambda x :((x * 255).astype(np.uint8)\n",
    "image_shape = img.shape\n",
    "print(image_shape)\n",
    "plt.imshow(deprocess(mask_array),cmap='gray')\n",
    "#plt.imshow(img)\n",
    "plt.show()\n",
    "print (mask_array.shape)"
   ]
  },
  {
   "cell_type": "code",
   "execution_count": 91,
   "metadata": {},
   "outputs": [
    {
     "data": {
      "text/plain": [
       "array([[127, 127, 127, ..., 127, 127, 127],\n",
       "       [127, 127, 127, ..., 127, 127, 127],\n",
       "       [127, 127, 127, ..., 127, 127, 127],\n",
       "       ..., \n",
       "       [127, 127, 127, ..., 254, 254, 254],\n",
       "       [127, 127, 127, ..., 254, 254, 254],\n",
       "       [127, 127, 127, ..., 254, 254, 254]], dtype=uint8)"
      ]
     },
     "execution_count": 91,
     "metadata": {},
     "output_type": "execute_result"
    }
   ],
   "source": [
    "deprocess(mask_array)"
   ]
  },
  {
   "cell_type": "code",
   "execution_count": null,
   "metadata": {
    "collapsed": true
   },
   "outputs": [],
   "source": []
  }
 ],
 "metadata": {
  "kernelspec": {
   "display_name": "Python 3",
   "language": "python",
   "name": "python3"
  },
  "language_info": {
   "codemirror_mode": {
    "name": "ipython",
    "version": 3
   },
   "file_extension": ".py",
   "mimetype": "text/x-python",
   "name": "python",
   "nbconvert_exporter": "python",
   "pygments_lexer": "ipython3",
   "version": "3.6.1"
  }
 },
 "nbformat": 4,
 "nbformat_minor": 2
}

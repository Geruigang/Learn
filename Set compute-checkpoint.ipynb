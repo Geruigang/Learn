{
 "cells": [
  {
   "cell_type": "code",
   "execution_count": 1,
   "metadata": {},
   "outputs": [
    {
     "data": {
      "text/plain": [
       "{1, 2, 3}"
      ]
     },
     "execution_count": 1,
     "metadata": {},
     "output_type": "execute_result"
    }
   ],
   "source": [
    "s = set([1, 2, 3])\n",
    "s"
   ]
  },
  {
   "cell_type": "code",
   "execution_count": 2,
   "metadata": {},
   "outputs": [
    {
     "data": {
      "text/plain": [
       "{1, 2, 3, 4}"
      ]
     },
     "execution_count": 2,
     "metadata": {},
     "output_type": "execute_result"
    }
   ],
   "source": [
    "set([1, 2, 3])\n",
    "s.add(3)   #重複するので変化ない\n",
    "s.add(4)\n",
    "s"
   ]
  },
  {
   "cell_type": "code",
   "execution_count": 3,
   "metadata": {},
   "outputs": [
    {
     "data": {
      "text/plain": [
       "['hello', 'world', 'apple', 'world', 'python', 'apple']"
      ]
     },
     "execution_count": 3,
     "metadata": {},
     "output_type": "execute_result"
    }
   ],
   "source": [
    "l = [\"hello\", \"world\", \"apple\", \"world\", \"python\", \"apple\"] #重複する要素をもつリスト\n",
    "l"
   ]
  },
  {
   "cell_type": "code",
   "execution_count": 5,
   "metadata": {},
   "outputs": [
    {
     "data": {
      "text/plain": [
       "['apple', 'world', 'hello', 'python']"
      ]
     },
     "execution_count": 5,
     "metadata": {},
     "output_type": "execute_result"
    }
   ],
   "source": [
    "list(set(l))#setを作成して重複を取り除いて再びリスト化する"
   ]
  },
  {
   "cell_type": "code",
   "execution_count": 6,
   "metadata": {},
   "outputs": [
    {
     "data": {
      "text/plain": [
       "{1, 2, 3, 4, 5}"
      ]
     },
     "execution_count": 6,
     "metadata": {},
     "output_type": "execute_result"
    }
   ],
   "source": [
    "s = set([1, 2, 3])\n",
    "s.union([3, 4, 5])  #和集合"
   ]
  },
  {
   "cell_type": "code",
   "execution_count": 7,
   "metadata": {},
   "outputs": [
    {
     "data": {
      "text/plain": [
       "{1, 2}"
      ]
     },
     "execution_count": 7,
     "metadata": {},
     "output_type": "execute_result"
    }
   ],
   "source": [
    "s.difference([3, 4, 5])  #差集合"
   ]
  },
  {
   "cell_type": "code",
   "execution_count": 8,
   "metadata": {},
   "outputs": [
    {
     "data": {
      "text/plain": [
       "{3}"
      ]
     },
     "execution_count": 8,
     "metadata": {},
     "output_type": "execute_result"
    }
   ],
   "source": [
    "s.intersection([3, 4, 5]) #積集合 (共通部分）"
   ]
  },
  {
   "cell_type": "code",
   "execution_count": 9,
   "metadata": {},
   "outputs": [
    {
     "data": {
      "text/plain": [
       "{1, 2, 4, 5}"
      ]
     },
     "execution_count": 9,
     "metadata": {},
     "output_type": "execute_result"
    }
   ],
   "source": [
    "s.symmetric_difference([3, 4, 5])  #どちらか一方に属する要素"
   ]
  },
  {
   "cell_type": "code",
   "execution_count": 10,
   "metadata": {},
   "outputs": [
    {
     "data": {
      "text/plain": [
       "True"
      ]
     },
     "execution_count": 10,
     "metadata": {},
     "output_type": "execute_result"
    }
   ],
   "source": [
    "s.issubset([3, 1, 2, 5])  # sが [3, 1, 2, 5]の部分集合である場合True"
   ]
  },
  {
   "cell_type": "code",
   "execution_count": 11,
   "metadata": {},
   "outputs": [
    {
     "data": {
      "text/plain": [
       "False"
      ]
     },
     "execution_count": 11,
     "metadata": {},
     "output_type": "execute_result"
    }
   ],
   "source": [
    "s.issubset([3, 1,  5])"
   ]
  },
  {
   "cell_type": "code",
   "execution_count": 12,
   "metadata": {},
   "outputs": [
    {
     "data": {
      "text/plain": [
       "True"
      ]
     },
     "execution_count": 12,
     "metadata": {},
     "output_type": "execute_result"
    }
   ],
   "source": [
    "s.issuperset([3, 1])    # [3, 2]がsの部分集合の場合True"
   ]
  },
  {
   "cell_type": "code",
   "execution_count": 13,
   "metadata": {},
   "outputs": [
    {
     "data": {
      "text/plain": [
       "True"
      ]
     },
     "execution_count": 13,
     "metadata": {},
     "output_type": "execute_result"
    }
   ],
   "source": [
    "s.issuperset([3, 1, 2])"
   ]
  },
  {
   "cell_type": "code",
   "execution_count": 14,
   "metadata": {},
   "outputs": [
    {
     "data": {
      "text/plain": [
       "False"
      ]
     },
     "execution_count": 14,
     "metadata": {},
     "output_type": "execute_result"
    }
   ],
   "source": [
    "s.issuperset([3, 1, 2, 5])"
   ]
  },
  {
   "cell_type": "code",
   "execution_count": null,
   "metadata": {},
   "outputs": [],
   "source": []
  },
  {
   "cell_type": "code",
   "execution_count": null,
   "metadata": {},
   "outputs": [],
   "source": []
  },
  {
   "cell_type": "code",
   "execution_count": 21,
   "metadata": {},
   "outputs": [],
   "source": [
    "import os\n",
    "path_t = r'C:\\Users\\hosilab\\Desktop\\ps\\agent'\n",
    "\n",
    "path_v =  r'C:\\Users\\hosilab\\Desktop\\sample\\agent'"
   ]
  },
  {
   "cell_type": "code",
   "execution_count": 16,
   "metadata": {},
   "outputs": [],
   "source": [
    "\n",
    "t_samples = [os.path.join(root,name)\n",
    "                    for root,dirs,files in sorted(os.walk(path_t))\n",
    "                    for name in files if os.path.splitext(name.lower())[-1] in ('.jpeg','.jpg')]"
   ]
  },
  {
   "cell_type": "code",
   "execution_count": 22,
   "metadata": {},
   "outputs": [],
   "source": [
    "\n",
    "v_samples = [os.path.join(root,name)\n",
    "                    for root,dirs,files in sorted(os.walk(path_v))\n",
    "                    for name in files if os.path.splitext(name.lower())[-1] in ('.jpeg','.jpg')]"
   ]
  },
  {
   "cell_type": "code",
   "execution_count": 23,
   "metadata": {},
   "outputs": [
    {
     "name": "stdout",
     "output_type": "stream",
     "text": [
      "2306674 160281\n"
     ]
    }
   ],
   "source": [
    "print(len(t_samples),len(v_samples))"
   ]
  },
  {
   "cell_type": "code",
   "execution_count": 24,
   "metadata": {},
   "outputs": [
    {
     "name": "stdout",
     "output_type": "stream",
     "text": [
      "2306674 160281\n"
     ]
    }
   ],
   "source": [
    "print(len(set(t_samples)),len(set(v_samples)))"
   ]
  },
  {
   "cell_type": "code",
   "execution_count": 25,
   "metadata": {},
   "outputs": [],
   "source": [
    "classes = ['Forward3reward', 'Left3reward', 'Right3reward']\n"
   ]
  },
  {
   "cell_type": "code",
   "execution_count": 36,
   "metadata": {},
   "outputs": [],
   "source": [
    "'''错误的'''\n",
    "bad = []\n",
    "for name in t_samples:\n",
    "    for _ in classes:\n",
    "        if _ not in name:\n",
    "             bad.append(name)"
   ]
  },
  {
   "cell_type": "code",
   "execution_count": 33,
   "metadata": {},
   "outputs": [],
   "source": [
    "'''错误的'''\n",
    "bad = []\n",
    "for k in classes:\n",
    "    for name in t_samples:\n",
    "        if k not in name:\n",
    "            bad.append(name)\n",
    "            #nb_train_samples.remove(name)#并不是pop"
   ]
  },
  {
   "cell_type": "code",
   "execution_count": 37,
   "metadata": {
    "scrolled": true
   },
   "outputs": [
    {
     "data": {
      "text/plain": [
       "6002444"
      ]
     },
     "execution_count": 37,
     "metadata": {},
     "output_type": "execute_result"
    }
   ],
   "source": [
    "len(bad)"
   ]
  },
  {
   "cell_type": "code",
   "execution_count": 32,
   "metadata": {},
   "outputs": [
    {
     "data": {
      "text/plain": [
       "-3695770"
      ]
     },
     "execution_count": 32,
     "metadata": {},
     "output_type": "execute_result"
    }
   ],
   "source": [
    "len(set(t_samples))-len(bad)"
   ]
  },
  {
   "cell_type": "code",
   "execution_count": 42,
   "metadata": {
    "scrolled": true
   },
   "outputs": [
    {
     "data": {
      "text/plain": [
       "'C'"
      ]
     },
     "execution_count": 42,
     "metadata": {},
     "output_type": "execute_result"
    }
   ],
   "source": [
    "b[0]#\n",
    "'''找到了错误的原因了，因为变量不能等于带转移符号的字符串\n",
    "比方说a = 'C:\\Users\\hosilab\\Desktop\\ps\\agent\\Forward3reward\\foward_1299365.jpg' \n",
    "就会报错，前面必须家r让其反转义'''"
   ]
  },
  {
   "cell_type": "code",
   "execution_count": 43,
   "metadata": {
    "scrolled": true
   },
   "outputs": [
    {
     "name": "stdout",
     "output_type": "stream",
     "text": [
      "Forward3reward\n",
      "Left3reward\n",
      "Right3reward\n"
     ]
    }
   ],
   "source": [
    "for k in classes:\n",
    "    print(k)"
   ]
  },
  {
   "cell_type": "code",
   "execution_count": 44,
   "metadata": {},
   "outputs": [
    {
     "name": "stdout",
     "output_type": "stream",
     "text": [
      "C:\\Users\\hosilab\\Desktop\\ps\\agent\\Forward3reward\\foward_1298388.jpg\n",
      "C:\\Users\\hosilab\\Desktop\\ps\\agent\\Forward3reward\\foward_274985.jpg\n",
      "C:\\Users\\hosilab\\Desktop\\ps\\agent\\Forward3reward\\foward_472080.jpg\n",
      "C:\\Users\\hosilab\\Desktop\\ps\\agent\\Forward3reward\\foward_668839.jpg\n",
      "C:\\Users\\hosilab\\Desktop\\ps\\agent\\Forward3reward\\foward_874948.jpg\n",
      "C:\\Users\\hosilab\\Desktop\\ps\\agent\\Forward6re\\foward_1068550.jpg\n",
      "C:\\Users\\hosilab\\Desktop\\ps\\agent\\Forward6re\\foward_223960.jpg\n",
      "C:\\Users\\hosilab\\Desktop\\ps\\agent\\Forward6re\\foward_386779.jpg\n",
      "C:\\Users\\hosilab\\Desktop\\ps\\agent\\Forward6re\\foward_547457.jpg\n",
      "C:\\Users\\hosilab\\Desktop\\ps\\agent\\Forward6re\\foward_721710.jpg\n",
      "C:\\Users\\hosilab\\Desktop\\ps\\agent\\Forward6re\\foward_898422.jpg\n",
      "C:\\Users\\hosilab\\Desktop\\ps\\agent\\Left3reward\\left_1341561.jpg\n",
      "C:\\Users\\hosilab\\Desktop\\ps\\agent\\Left3reward\\left_420070.jpg\n",
      "C:\\Users\\hosilab\\Desktop\\ps\\agent\\Left3reward\\left_659067.jpg\n",
      "C:\\Users\\hosilab\\Desktop\\ps\\agent\\Left3reward\\left_887926.jpg\n",
      "C:\\Users\\hosilab\\Desktop\\ps\\agent\\Left6re\\left_676093.jpg\n",
      "C:\\Users\\hosilab\\Desktop\\ps\\agent\\RGB\\img_169723.jpg\n",
      "C:\\Users\\hosilab\\Desktop\\ps\\agent\\RGB\\img_259723.jpg\n",
      "C:\\Users\\hosilab\\Desktop\\ps\\agent\\RGB\\img_349723.jpg\n",
      "C:\\Users\\hosilab\\Desktop\\ps\\agent\\Right3reward\\right_1307411.jpg\n",
      "C:\\Users\\hosilab\\Desktop\\ps\\agent\\Right6re\\right_1115154.jpg\n",
      "C:\\Users\\hosilab\\Desktop\\ps\\agent\\Right6re\\right_390255.jpg\n",
      "C:\\Users\\hosilab\\Desktop\\ps\\agent\\Right6re\\right_703362.jpg\n",
      "C:\\Users\\hosilab\\Desktop\\ps\\agent\\Right6re\\right_982401.jpg\n"
     ]
    }
   ],
   "source": [
    "for name in t_samples[::100000]:#没隔10W个一次\n",
    "    print(name)"
   ]
  },
  {
   "cell_type": "code",
   "execution_count": 74,
   "metadata": {},
   "outputs": [],
   "source": [
    "'错误的'\n",
    "bad = []\n",
    "\n",
    "for name in t_samples:\n",
    "    if (classes[0]) not in (name):\n",
    "        bad.append(name)\n",
    "    elif (classes[1]) not in (name):\n",
    "        bad.append(name)\n",
    "    elif (classes[2]) not in (name):\n",
    "        bad.append(name)\n",
    "        #nb_train_samples.remove(name)#并不是pop"
   ]
  },
  {
   "cell_type": "code",
   "execution_count": 75,
   "metadata": {},
   "outputs": [
    {
     "data": {
      "text/plain": [
       "2306674"
      ]
     },
     "execution_count": 75,
     "metadata": {},
     "output_type": "execute_result"
    }
   ],
   "source": [
    "len(bad)"
   ]
  },
  {
   "cell_type": "code",
   "execution_count": 67,
   "metadata": {},
   "outputs": [],
   "source": [
    "\n",
    "klass3 = []\n",
    "\n",
    "for name in t_samples:\n",
    "    if classes[0] in name:\n",
    "        klass3.append(name)\n",
    "    elif classes[1]in name:\n",
    "        klass3.append(name)\n",
    "    elif classes[2] in name:\n",
    "        klass3.append(name)\n",
    "        #nb_train_samples.remove(name)#并不是pop"
   ]
  },
  {
   "cell_type": "code",
   "execution_count": 68,
   "metadata": {},
   "outputs": [
    {
     "data": {
      "text/plain": [
       "'Right3reward'"
      ]
     },
     "execution_count": 68,
     "metadata": {},
     "output_type": "execute_result"
    }
   ],
   "source": [
    "classes[2]"
   ]
  },
  {
   "cell_type": "code",
   "execution_count": 69,
   "metadata": {},
   "outputs": [
    {
     "data": {
      "text/plain": [
       "917578"
      ]
     },
     "execution_count": 69,
     "metadata": {},
     "output_type": "execute_result"
    }
   ],
   "source": [
    "len(klass3)"
   ]
  },
  {
   "cell_type": "code",
   "execution_count": 55,
   "metadata": {
    "scrolled": true
   },
   "outputs": [
    {
     "data": {
      "text/plain": [
       "0"
      ]
     },
     "execution_count": 55,
     "metadata": {},
     "output_type": "execute_result"
    }
   ],
   "source": [
    "len(set(t_samples))-len(bad)"
   ]
  },
  {
   "cell_type": "code",
   "execution_count": 50,
   "metadata": {},
   "outputs": [
    {
     "data": {
      "text/plain": [
       "'C:\\\\Users\\\\hosilab\\\\Desktop\\\\ps\\\\agent\\\\Forward3reward\\\\foward_1298388.jpg'"
      ]
     },
     "execution_count": 50,
     "metadata": {},
     "output_type": "execute_result"
    }
   ],
   "source": [
    "bad[0]"
   ]
  },
  {
   "cell_type": "code",
   "execution_count": 38,
   "metadata": {},
   "outputs": [],
   "source": [
    "a = r'Forward3reward'\n",
    "b = r'C:\\Users\\hosilab\\Desktop\\ps\\agent\\Forward3reward\\foward_1299365.jpg'"
   ]
  },
  {
   "cell_type": "code",
   "execution_count": 41,
   "metadata": {},
   "outputs": [
    {
     "data": {
      "text/plain": [
       "True"
      ]
     },
     "execution_count": 41,
     "metadata": {},
     "output_type": "execute_result"
    }
   ],
   "source": [
    "b not in a"
   ]
  },
  {
   "cell_type": "code",
   "execution_count": 40,
   "metadata": {},
   "outputs": [
    {
     "data": {
      "text/plain": [
       "True"
      ]
     },
     "execution_count": 40,
     "metadata": {},
     "output_type": "execute_result"
    }
   ],
   "source": [
    "a in b"
   ]
  },
  {
   "cell_type": "code",
   "execution_count": null,
   "metadata": {},
   "outputs": [],
   "source": []
  }
 ],
 "metadata": {
  "kernelspec": {
   "display_name": "Python 3",
   "language": "python",
   "name": "python3"
  },
  "language_info": {
   "codemirror_mode": {
    "name": "ipython",
    "version": 3
   },
   "file_extension": ".py",
   "mimetype": "text/x-python",
   "name": "python",
   "nbconvert_exporter": "python",
   "pygments_lexer": "ipython3",
   "version": "3.6.5"
  }
 },
 "nbformat": 4,
 "nbformat_minor": 2
}

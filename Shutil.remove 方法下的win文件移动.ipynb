{
 "cells": [
  {
   "cell_type": "code",
   "execution_count": null,
   "metadata": {
    "collapsed": true
   },
   "outputs": [],
   "source": [
    "import os\n",
    "import glob\n",
    "import shutil"
   ]
  },
  {
   "cell_type": "code",
   "execution_count": null,
   "metadata": {},
   "outputs": [],
   "source": [
    "'''1.把desktop加入只带一个转义符的路径，并通过abspath方法变成绝对路径\n",
    "  2.用os.listdir方法去查看当下path的所有文件\n",
    "  3.打印这些文件'''\n",
    "path_img = os.path.abspath('desktop')#因为原始文件存放在桌面上\n",
    "print(path_img)\n",
    "train_filenames = os.listdir(path_img)\n",
    "print(train_filenames)\n"
   ]
  },
  {
   "cell_type": "code",
   "execution_count": null,
   "metadata": {},
   "outputs": [],
   "source": [
    "'''1.因为是py3的原因，map，zip，filter要通过list()方法才能看到内容，\n",
    "不然就是当前方法的object\n",
    "  2.通过filter方法判断文件末尾最后4个字符是否为指定的图片格式，filter\n",
    "  只会实现True的判断\n",
    "  3.通过无名函数lambda的方法让x为train_filenames\n",
    "  4.index一般是从小到大的顺序，到达指定的位置-1索引，若从大到小就是\n",
    "  小的位置-1,若是索引就是：-1，若是range就是小的值-1，得出的就是最后值)'''\n",
    "#train_filenames = os.listdir(path_img)#print train_filenames\n",
    "train_data = list(filter(lambda x:x[-4:] == '.jpg' , train_filenames))\n",
    "print (train_data)"
   ]
  },
  {
   "cell_type": "code",
   "execution_count": null,
   "metadata": {},
   "outputs": [],
   "source": [
    "'''通过iteration的方法将每个符合.jpg的文件加入绝对路径后，并给移动到新路径下\n",
    "  注意的是os.symlink是软连接，是linux的系统下可执行的py命令，win需要权限'''\n",
    "for filename in train_data:\n",
    "     #os.symlink('C:\\\\Users\\\\hosilab\\\\Desktop'+'\\\\'+filename, '\n",
    "        #C:\\\\Users\\\\hosilab\\\\Desktop\\\\work'+'\\\\'+filename)\n",
    "        shutil.move('C:\\\\Users\\\\hosilab\\\\Desktop'+'\\\\'+filename, \n",
    "                    'C:\\\\Users\\\\hosilab\\\\Desktop\\\\work'+'\\\\'+filename)"
   ]
  },
  {
   "cell_type": "code",
   "execution_count": null,
   "metadata": {},
   "outputs": [],
   "source": [
    "a = list(range(10,1,-1))#必须有list()\n",
    "print(a)"
   ]
  },
  {
   "cell_type": "code",
   "execution_count": null,
   "metadata": {},
   "outputs": [],
   "source": [
    "a[9:1:-1]"
   ]
  },
  {
   "cell_type": "code",
   "execution_count": 49,
   "metadata": {},
   "outputs": [
    {
     "name": "stdout",
     "output_type": "stream",
     "text": [
      "4\n"
     ]
    }
   ],
   "source": [
    "'''首先通过enumerate来迭代出i执行的次数，注意这里不能用len(i),\n",
    "import numpy as np\n",
    "for i  in np.array([11,2,3,'lk']):\n",
    "    print (len(i))\n",
    "    2\n",
    "    1\n",
    "    1\n",
    "    2\n",
    "当迭代对象为数字时，用的是py内置list的时候len(int)会error\n",
    "a = [1, 2, 3, 'lk', 23] \n",
    "for _, i in enumerate (a):\n",
    "    pass\n",
    "    #print (_, end='')\n",
    "print(_+1)                                                              #result = 5\n",
    "print(len([i for i in a]))                                             #result = 5\n",
    "其次通过path.join()方法将文件路径，子目录加上所要查找的文件名参数'''\n",
    "import glob,os\n",
    "path_ = '/home/search/apps/jupyter/opt/geruigang/tumo-wangxian\\\n",
    "                                                                    /wutumo danqinyuan'\n",
    "for _, i in enumerate (glob.iglob(os.path.join(path_,'00-02' +'/bad.*'))):\n",
    "    print (i) \n",
    "    title, ext = os.path.splitext(os.path.basename(i))\n",
    "    print (title, ext, _+1)\n",
    "    os.rename(i, os.path.join(path_+'/00-02', 'good.' + str(_)+'.jpg'))\n",
    "print(_)"
   ]
  },
  {
   "cell_type": "code",
   "execution_count": 4,
   "metadata": {},
   "outputs": [
    {
     "name": "stdout",
     "output_type": "stream",
     "text": [
      "2\n",
      "1\n",
      "1\n",
      "2\n"
     ]
    }
   ],
   "source": [
    "import numpy as np\n",
    "for i  in np.array([11,2,3,'lk']):\n",
    "    print (len(i))"
   ]
  },
  {
   "cell_type": "code",
   "execution_count": 26,
   "metadata": {},
   "outputs": [
    {
     "name": "stdout",
     "output_type": "stream",
     "text": [
      "5\n",
      "5\n"
     ]
    }
   ],
   "source": [
    "a = [1, 2, 3, 'lk', 23] \n",
    "for _, i in enumerate (a):\n",
    "    pass\n",
    "    #print (_, end='')\n",
    "print(_+1)#5\n",
    "print(len([i for i in a]))#5"
   ]
  },
  {
   "cell_type": "code",
   "execution_count": 45,
   "metadata": {},
   "outputs": [
    {
     "name": "stdout",
     "output_type": "stream",
     "text": [
      "['26种神经网络激活函数可视化 _ 机器之心.pdf', 'aitlan_ログアウト.url', 'aitlan_ログイン.url', 'b', 'c', 'Chainerbook', 'code', 'C语言实现矩阵相乘 - CSDN博客.pdf', 'd', 'desktop.ini', 'DQNからRainbowまで.pdf', 'Dropbox_Chollet.pdf', 'error.PNG', 'ev3', 'fanzhuan.py', 'g17605.lnk', 'Grammarly.lnk', 'guide2019_all.pdf', 'H31_sodan20180510_02.pdf', 'iv3.py', 'Kato99a.pdf', 'lala', 'Microsoft Edge.lnk', 'N.docx', 'nlp2018introductionofdeeprlpfnmaedafujitaslideshare-180323064436 (1).pdf', 'numpy中mgrid与meshgrid的区别 - CSDN博客.pdf', 'object类.pdf', 'ooop.docx', 'p.pdf', 'PDF转Word转换器 - 免费服务.url', 'PGのES文章.docx', 'plot_reward_log.py', 'plt', 'pr.docx', 'Programming-Collective-Intelligence-Source-Code-master', 'Proxifier.lnk', 'python-.pdf', 'PYTHON机器学习及实践－从零开始通往KAGGLE竞赛之路.pdf', 'QQ图片20180628141105.png', 'QQ图片20180703131559.png', 'QQ图片20180703131623.png', 'QQ图片20180731122154.jpg', 'QQ截图20180628142104.png', 'r.png', 'r.png - ショートカット.lnk', 'reward.log', 'reward.pdf', 'reward_desk100w.log', 'reward_tk10w.log', 'ri0.py', 'sdx', 'server.py', 'tensorflow-1.8.0-cp36-cp36m-win_amd64.whl', 'TensorFlow和Keras解决大数据量内存溢出问题 2018-04-18 – Androidev.pdf', 'TENSORFLOW官方文档中文翻译之三：Tensors – Rethink.pdf', 'threading.py', 'threading.pyc', 'trees.py', 'trees.pyc', 'tt.txt', 'WEB履歴書_パーソルＲ＆Ｄ株式会社.pdf', 'work', 'www.1993s.top.url', '~$111111.pptx', '~$ooop.docx', '~$pr.docx', '~$学習や深層学習がを浴びていますが.docx', 'これからの強化学習.pdf', 'タイトル無し1.py', 'タイトル無し2.py', '下書き.docx', '参考文献.docx', '基于Keras的卷积神经网络（CNN）可视化 - CSDN博客.pdf', '大学毕业证明送付申请.docx', '学生生活で力を入れたことを教えてください.docx', '実験30年', '履历.docx', '整理', '新しいテキスト ドキュメント (2).txt', '新しいテキスト ドキュメント.txt', '热ward.pdf', '画像認識で「綾鷹を選ばせる」AIを作る.pdf', '私は.docx', '私は居酒屋でアルバイトの２年間の経験が役に立ちました.docx', '葛エイ剛.jpg - ショートカット.lnk', '葛エイ剛.rar', '高清.pdf']\n"
     ]
    }
   ],
   "source": [
    "import os,shutil\n",
    "train_filenames = os.listdir(os.getcwd()+'\\\\desktop')\n",
    "assert train_filenames\n",
    "print (train_filenames)\n",
    "train_data = filter(lambda x:x[-4:] == '.png', train_filenames)\n",
    "for filename in train_data:\n",
    "    shutil.move(os.path.abspath('C:/Users/hosilab/Desktop')+'//'+filename, \n",
    "                os.path.abspath('C:/Users/hosilab/Desktop/lala')+'//'+filename)"
   ]
  },
  {
   "cell_type": "code",
   "execution_count": 47,
   "metadata": {},
   "outputs": [
    {
     "name": "stdout",
     "output_type": "stream",
     "text": [
      "['26种神经网络激活函数可视化 _ 机器之心.pdf', 'aitlan_ログアウト.url', 'aitlan_ログイン.url', 'b', 'c', 'Chainerbook', 'code', 'C语言实现矩阵相乘 - CSDN博客.pdf', 'd', 'desktop.ini', 'DQNからRainbowまで.pdf', 'Dropbox_Chollet.pdf', 'error.PNG', 'ev3', 'fanzhuan.py', 'g17605.lnk', 'Grammarly.lnk', 'guide2019_all.pdf', 'H31_sodan20180510_02.pdf', 'iv3.py', 'Kato99a.pdf', 'lala', 'Microsoft Edge.lnk', 'N.docx', 'nlp2018introductionofdeeprlpfnmaedafujitaslideshare-180323064436 (1).pdf', 'numpy中mgrid与meshgrid的区别 - CSDN博客.pdf', 'object类.pdf', 'ooop.docx', 'p.pdf', 'PDF转Word转换器 - 免费服务.url', 'PGのES文章.docx', 'plot_reward_log.py', 'plt', 'pr.docx', 'Programming-Collective-Intelligence-Source-Code-master', 'Proxifier.lnk', 'python-.pdf', 'PYTHON机器学习及实践－从零开始通往KAGGLE竞赛之路.pdf', 'QQ图片20180628141105.png', 'QQ图片20180703131559.png', 'QQ图片20180703131623.png', 'QQ图片20180731122154.jpg', 'QQ截图20180628142104.png', 'r.png', 'r.png - ショートカット.lnk', 'reward.log', 'reward.pdf', 'reward_desk100w.log', 'reward_tk10w.log', 'ri0.py', 'sdx', 'server.py', 'tensorflow-1.8.0-cp36-cp36m-win_amd64.whl', 'TensorFlow和Keras解决大数据量内存溢出问题 2018-04-18 – Androidev.pdf', 'TENSORFLOW官方文档中文翻译之三：Tensors – Rethink.pdf', 'threading.py', 'threading.pyc', 'trees.py', 'trees.pyc', 'tt.txt', 'WEB履歴書_パーソルＲ＆Ｄ株式会社.pdf', 'work', 'www.1993s.top.url', '~$111111.pptx', '~$ooop.docx', '~$pr.docx', '~$学習や深層学習がを浴びていますが.docx', 'これからの強化学習.pdf', 'タイトル無し1.py', 'タイトル無し2.py', '下書き.docx', '参考文献.docx', '基于Keras的卷积神经网络（CNN）可视化 - CSDN博客.pdf', '大学毕业证明送付申请.docx', '学生生活で力を入れたことを教えてください.docx', '実験30年', '履历.docx', '整理', '新しいテキスト ドキュメント (2).txt', '新しいテキスト ドキュメント.txt', '热ward.pdf', '画像認識で「綾鷹を選ばせる」AIを作る.pdf', '私は.docx', '私は居酒屋でアルバイトの２年間の経験が役に立ちました.docx', '葛エイ剛.jpg - ショートカット.lnk', '葛エイ剛.rar', '高清.pdf']\n"
     ]
    }
   ],
   "source": [
    "import os,shutil\n",
    "train_filenames = os.listdir(os.getcwd()+'\\\\desktop')\n",
    "assert train_filenames\n",
    "print (train_filenames)\n",
    "train_data = filter(lambda x:x[-4:] == '.png', train_filenames)\n",
    "for filename in train_data:\n",
    "    shutil.move(r'C:/Users/hosilab/Desktop'+'//'+filename, \n",
    "                r'C:/Users/hosilab/Desktop/lala'+'//'+filename)"
   ]
  },
  {
   "cell_type": "code",
   "execution_count": 64,
   "metadata": {},
   "outputs": [
    {
     "name": "stdout",
     "output_type": "stream",
     "text": [
      "['26种神经网络激活函数可视化 _ 机器之心.pdf', 'aitlan_ログアウト.url', 'aitlan_ログイン.url', 'b', 'c', 'Chainerbook', 'code', 'C语言实现矩阵相乘 - CSDN博客.pdf', 'd', 'desktop.ini', 'DQNからRainbowまで.pdf', 'Dropbox_Chollet.pdf', 'error.PNG', 'ev3', 'fanzhuan.py', 'g17605.lnk', 'Grammarly.lnk', 'guide2019_all.pdf', 'H31_sodan20180510_02.pdf', 'iv3.py', 'Kato99a.pdf', 'lala', 'lala - コピー', 'Microsoft Edge.lnk', 'N.docx', 'nlp2018introductionofdeeprlpfnmaedafujitaslideshare-180323064436 (1).pdf', 'numpy中mgrid与meshgrid的区别 - CSDN博客.pdf', 'object类.pdf', 'ooop.docx', 'p.pdf', 'PDF转Word转换器 - 免费服务.url', 'PGのES文章.docx', 'plot_reward_log.py', 'plt', 'pr.docx', 'Programming-Collective-Intelligence-Source-Code-master', 'Proxifier.lnk', 'python-.pdf', 'PYTHON机器学习及实践－从零开始通往KAGGLE竞赛之路.pdf', 'QQ图片20180628141105.png', 'QQ图片20180703131559.png', 'QQ图片20180703131623.png', 'QQ图片20180731122154.jpg', 'QQ截图20180628142104.png', 'r.png', 'r.png - ショートカット.lnk', 'reward.log', 'reward.pdf', 'reward_desk100w.log', 'reward_tk10w.log', 'ri0.py', 'sdx', 'server.py', 'tensorflow-1.8.0-cp36-cp36m-win_amd64.whl', 'TensorFlow和Keras解决大数据量内存溢出问题 2018-04-18 – Androidev.pdf', 'TENSORFLOW官方文档中文翻译之三：Tensors – Rethink.pdf', 'threading.py', 'threading.pyc', 'trees.py', 'trees.pyc', 'tt.txt', 'WEB履歴書_パーソルＲ＆Ｄ株式会社.pdf', 'work', 'www.1993s.top.url', '~$111111.pptx', '~$ooop.docx', '~$pr.docx', '~$学習や深層学習がを浴びていますが.docx', 'これからの強化学習.pdf', 'タイトル無し1.py', 'タイトル無し2.py', '下書き.docx', '参考文献.docx', '基于Keras的卷积神经网络（CNN）可视化 - CSDN博客.pdf', '大学毕业证明送付申请.docx', '学生生活で力を入れたことを教えてください.docx', '実験30年', '履历.docx', '整理', '新しいテキスト ドキュメント (2).txt', '新しいテキスト ドキュメント.txt', '热ward.pdf', '画像認識で「綾鷹を選ばせる」AIを作る.pdf', '私は.docx', '私は居酒屋でアルバイトの２年間の経験が役に立ちました.docx', '葛エイ剛.jpg - ショートカット.lnk', '葛エイ剛.rar', '高清.pdf']\n"
     ]
    }
   ],
   "source": [
    "import os,shutil\n",
    "train_filenames = os.listdir(os.getcwd()+'\\\\desktop')#/desktop也可以\n",
    "assert train_filenames\n",
    "print (train_filenames)\n",
    "train_data = filter(lambda x:x[-4:] == '.png', train_filenames)\n",
    "for filename in train_data:\n",
    "    shutil.move(r'C:/Users/hosilab/Desktop/'+filename, \n",
    "                r'C:/Users/hosilab/Desktop/lala/'+filename)"
   ]
  },
  {
   "cell_type": "code",
   "execution_count": 66,
   "metadata": {},
   "outputs": [],
   "source": [
    "import os\n",
    " \n",
    "def rename(path, num, start_index):\n",
    "    filelist = os.listdir(path)\n",
    "    filelist = sorted(filelist)\n",
    "    img = start_index\n",
    "    Newdir = 'Image'#定义个图片文档\n",
    "    if not os.path.exists(Newdir):\n",
    "        os.makedirs(Newdir)\n",
    "    for files in filelist:#迭代路径目录下的所有目录和文件\n",
    "        Olddir = os.path.join(path, files)#讲\n",
    "        if os.path.isdir(Olddir):\n",
    "            continue\n",
    "        #filename = os.path.splitext(files)[0]#分割文件名比如xx.png{0:xx,1:.png}\n",
    "        #filetype = os.path.splitext(files)[1]  #同上\n",
    "        filename, filetype = os.path.splitext(files)\n",
    "        if str(img).zfill(num) == filename:\n",
    "            img = img + 1\n",
    "            continue\n",
    "        New_name = str(img).zfill(num) + filetype\n",
    "        os.system(\"cp \" + Olddir + ' ' + os.path.join(Newdir, New_name))\n",
    "        img = img + 1\n",
    "\n",
    "if __name__ == \"__main__\":\n",
    "    path = os.getcwd()+'/desktop/lala'\n",
    "    num = 5          #生成几bit的数\n",
    "    start_index = 1#从几开始数\n",
    "    rename(path,num,start_index)"
   ]
  },
  {
   "cell_type": "code",
   "execution_count": 62,
   "metadata": {},
   "outputs": [],
   "source": [
    "p = os.getcwd()+'/desktop/lala'"
   ]
  },
  {
   "cell_type": "code",
   "execution_count": 63,
   "metadata": {},
   "outputs": [
    {
     "data": {
      "text/plain": [
       "['QQ图片20180628141105.png',\n",
       " 'QQ图片20180703131559.png',\n",
       " 'QQ图片20180703131623.png',\n",
       " 'QQ截图20180628142104.png',\n",
       " 'r.png']"
      ]
     },
     "execution_count": 63,
     "metadata": {},
     "output_type": "execute_result"
    }
   ],
   "source": [
    "os.listdir(p)"
   ]
  },
  {
   "cell_type": "code",
   "execution_count": 72,
   "metadata": {},
   "outputs": [],
   "source": [
    "os.mkdir('Image')和os.makedirs('Image')"
   ]
  },
  {
   "cell_type": "code",
   "execution_count": null,
   "metadata": {
    "collapsed": true
   },
   "outputs": [],
   "source": [
    "'''这里有两个方法os.mkdir(path)和os.makedirs(path)\n",
    "首先说os.mkdir(path)，他的功能是一级一级的创建目录，\n",
    "前提是前面的目录已存在，如果不存在会报异常，比较麻烦，\n",
    "但是存在即有他的道理，当你的目录是根据文件名动态创建的时候，\n",
    "你会发现他虽然繁琐但是很有保障，不会因为你的一时手抖，\n",
    "创建而创建了双层或者多层错误路径.\n",
    "import os\n",
    "os.mkdir('d:\\hello')    #  正常\n",
    "os.mkdir('d:\\hello\\hi') #  正常\n",
    " \n",
    "#  如果d:\\hello目录不存在\n",
    "#  则os.mkdir('d:\\hello\\hi')执行失败\n",
    "\n",
    "然后是os.makedirs(path),单从写法上就能猜出他的区别，\n",
    "他可以一次创建多级目录，哪怕中间目录不存在也能正常的\n",
    "（替你）创建；万一你中间目录写错一个单词...与你预计要\n",
    "添加的位置目录就直接生成了一套多级目录去了...\n",
    "\n",
    "import os\n",
    " \n",
    "os.makedirs('d:\\hello')    #  正常\n",
    "os.makedirs('d:\\hello\\hi') #  正常\n",
    " \n",
    "#  如果d:\\hello目录不存在\n",
    "#  则os.mkdir('d:\\hello\\hi')  #  仍然正常'''"
   ]
  },
  {
   "cell_type": "code",
   "execution_count": 77,
   "metadata": {},
   "outputs": [
    {
     "name": "stdout",
     "output_type": "stream",
     "text": [
      "t/n\n",
      "t\n",
      "\n"
     ]
    }
   ],
   "source": [
    "print('t/n')\n",
    "print('t\\n')"
   ]
  },
  {
   "cell_type": "code",
   "execution_count": 80,
   "metadata": {},
   "outputs": [],
   "source": [
    "os.makedirs('c:\\hello\\hi')#会在C盘生成hello目录以及hi文件夹(子目录)"
   ]
  },
  {
   "cell_type": "code",
   "execution_count": null,
   "metadata": {
    "collapsed": true
   },
   "outputs": [],
   "source": []
  }
 ],
 "metadata": {
  "kernelspec": {
   "display_name": "Python 2",
   "language": "python",
   "name": "python2"
  },
  "language_info": {
   "codemirror_mode": {
    "name": "ipython",
    "version": 2
   },
   "file_extension": ".py",
   "mimetype": "text/x-python",
   "name": "python",
   "nbconvert_exporter": "python",
   "pygments_lexer": "ipython2",
   "version": "2.7.13"
  }
 },
 "nbformat": 4,
 "nbformat_minor": 2
}

{
 "cells": [
  {
   "cell_type": "markdown",
   "metadata": {},
   "source": [
    "# sys.stdout.write and sys.stdout.flush"
   ]
  },
  {
   "cell_type": "code",
   "execution_count": 1,
   "metadata": {},
   "outputs": [
    {
     "name": "stdout",
     "output_type": "stream",
     "text": [
      ">>9\r"
     ]
    }
   ],
   "source": [
    "import sys,time\n",
    "from six.moves import xrange\n",
    "for i in xrange(10):\n",
    "    time.sleep(0.1)\n",
    "    out_msg = ('>>{}\\r'.format(i))\n",
    "    sys.stdout.write(out_msg)\n",
    "    sys.stdout.flush()#flush是紧紧的,用于终端"
   ]
  },
  {
   "cell_type": "code",
   "execution_count": 5,
   "metadata": {},
   "outputs": [
    {
     "name": "stdout",
     "output_type": "stream",
     "text": [
      ">>9"
     ]
    }
   ],
   "source": [
    "import sys,time\n",
    "from six.moves import xrange\n",
    "for i in xrange(10):\n",
    "    time.sleep(0.1)\n",
    "    out_msg = ('\\r>>{}'.format(i))\n",
    "    sys.stdout.write(out_msg)\n",
    "    sys.stdout.flush()#flush是紧紧的,用于终端"
   ]
  },
  {
   "cell_type": "code",
   "execution_count": 6,
   "metadata": {},
   "outputs": [
    {
     "name": "stdout",
     "output_type": "stream",
     "text": [
      ">>0>>1>>2>>3>>4>>5>>6>>7>>8>>9"
     ]
    }
   ],
   "source": [
    "import sys,time\n",
    "from six.moves import xrange\n",
    "for i in xrange(10):\n",
    "    time.sleep(0.1)\n",
    "    out_msg = (r'>>{}'.format(i))\n",
    "    sys.stdout.write(out_msg)\n",
    "    sys.stdout.flush()#flush是紧紧的,用于终端一下下输出,而不是一片"
   ]
  },
  {
   "cell_type": "markdown",
   "metadata": {},
   "source": [
    "# 比较print函数"
   ]
  },
  {
   "cell_type": "code",
   "execution_count": 7,
   "metadata": {},
   "outputs": [
    {
     "name": "stdout",
     "output_type": "stream",
     "text": [
      ">>9"
     ]
    }
   ],
   "source": [
    "import sys,time\n",
    "from six.moves import xrange\n",
    "for i in xrange(10):\n",
    "    time.sleep(0.1)\n",
    "    print('\\r>>{}'.format(i),end='',flush=True)"
   ]
  },
  {
   "cell_type": "code",
   "execution_count": 8,
   "metadata": {},
   "outputs": [
    {
     "name": "stdout",
     "output_type": "stream",
     "text": [
      ">>0>>1>>2>>3>>4>>5>>6>>7>>8>>9"
     ]
    }
   ],
   "source": [
    "import sys,time\n",
    "from six.moves import xrange\n",
    "for i in xrange(10):\n",
    "    time.sleep(0.1)\n",
    "    print(r'>>{}'.format(i),end='')#flush 默认是fasle,如果同步显示就改成True"
   ]
  },
  {
   "cell_type": "code",
   "execution_count": 14,
   "metadata": {},
   "outputs": [
    {
     "name": "stdout",
     "output_type": "stream",
     "text": [
      "你好我要换行\n",
      "['0', '1', '2', '3', '4', '5', '6', '7', '8', '9']\n"
     ]
    }
   ],
   "source": [
    "print('你好我要换行',['{}'.format(i)for i in range(10)],sep='\\n')"
   ]
  },
  {
   "cell_type": "code",
   "execution_count": 16,
   "metadata": {},
   "outputs": [
    {
     "name": "stdout",
     "output_type": "stream",
     "text": [
      "['你好我要换行0', '你好我要换行1', '你好我要换行2', '你好我要换行3', '你好我要换行4', '你好我要换行5', '你好我要换行6', '你好我要换行7', '你好我要换行8', '你好我要换行9']\n"
     ]
    }
   ],
   "source": [
    "print(['你好我要换行{}'.format(i)for i in range(10)])"
   ]
  },
  {
   "cell_type": "code",
   "execution_count": 23,
   "metadata": {},
   "outputs": [
    {
     "ename": "SyntaxError",
     "evalue": "invalid syntax (<ipython-input-23-2f8a8d79fff5>, line 1)",
     "output_type": "error",
     "traceback": [
      "\u001b[0;36m  File \u001b[0;32m\"<ipython-input-23-2f8a8d79fff5>\"\u001b[0;36m, line \u001b[0;32m1\u001b[0m\n\u001b[0;31m    print('你好我要换行{}'.format(for i in range(10))\u001b[0m\n\u001b[0m                              ^\u001b[0m\n\u001b[0;31mSyntaxError\u001b[0m\u001b[0;31m:\u001b[0m invalid syntax\n"
     ]
    }
   ],
   "source": [
    "print('你好我要换行{}'.format(for i in range(10))"
   ]
  },
  {
   "cell_type": "markdown",
   "metadata": {},
   "source": [
    "# sys和inspect的2种方法显示调用的函数名称"
   ]
  },
  {
   "cell_type": "code",
   "execution_count": 24,
   "metadata": {},
   "outputs": [
    {
     "name": "stdout",
     "output_type": "stream",
     "text": [
      "t1 start\n",
      "t1 is done\n",
      "现在用的函数是add_t1\n",
      "线程名称是<Thread(t1, started 140241520277248)>\n",
      "main3 is done\n",
      "现在用的函数是main3,线程名称是<_MainThread(MainThread, started 140241959606016)>\n"
     ]
    }
   ],
   "source": [
    "import threading,time,inspect,sys\n",
    "from six.moves import xrange\n",
    "\n",
    "def add_t1():\n",
    "    print ('t1 start')\n",
    "    for i in xrange(15):\n",
    "        time.sleep(0.1)\n",
    "    print('t1 is done',f'现在用的函数是{inspect.stack()[0][3]}',f'线程名称是{threading.current_thread()}',sep='\\n')\n",
    "\n",
    "def main3():\n",
    "    added  = threading.Thread(target=add_t1,name='t1')\n",
    "    added.start()\n",
    "    added.join()\n",
    "    print('main3 is done','现在用的函数是{},线程名称是{}'.format(sys._getframe().f_code.co_name,threading.current_thread()),sep='\\n')\n",
    "\n",
    "if __name__== '__main__':\n",
    "    main3()"
   ]
  },
  {
   "cell_type": "code",
   "execution_count": null,
   "metadata": {},
   "outputs": [],
   "source": []
  }
 ],
 "metadata": {
  "kernelspec": {
   "display_name": "Python 3",
   "language": "python",
   "name": "python3"
  },
  "language_info": {
   "codemirror_mode": {
    "name": "ipython",
    "version": 3
   },
   "file_extension": ".py",
   "mimetype": "text/x-python",
   "name": "python",
   "nbconvert_exporter": "python",
   "pygments_lexer": "ipython3",
   "version": "3.6.5"
  }
 },
 "nbformat": 4,
 "nbformat_minor": 2
}
